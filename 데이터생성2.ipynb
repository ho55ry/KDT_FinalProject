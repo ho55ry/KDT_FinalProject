{
 "cells": [
  {
   "cell_type": "code",
   "execution_count": null,
   "metadata": {},
   "outputs": [],
   "source": [
    "import pandas as pd\n",
    "import json\n",
    "from tqdm.notebook import tqdm\n",
    "import random"
   ]
  },
  {
   "cell_type": "code",
   "execution_count": null,
   "metadata": {},
   "outputs": [],
   "source": [
    "[{'id':df.iloc[i,0],'name':df.iloc[i,1],'latitude':df.iloc[i,2],'longtitude':df.iloc[i,3],'height':df.iloc[i,4]} for i in range(df.shape[0])]"
   ]
  },
  {
   "cell_type": "code",
   "execution_count": null,
   "metadata": {},
   "outputs": [],
   "source": [
    "# 년월일 정렬\n",
    "df=pd.read_csv('./폭행/폭행_사건별_리스트(주소추가).csv',index_col=0)\n",
    "df.sort_values(by=['년','월','일','자치구','동'],inplace=True)\n",
    "df.reset_index(inplace=True,drop=True)\n",
    "data = {}\n",
    "for year in df.년.unique():\n",
    "    year_dict = {}\n",
    "    for month in df[df.년==year].월.unique():\n",
    "        month_dict = {}\n",
    "        for day in df[(df.년==year)&(df.월==month)].일.unique():\n",
    "            data_list = []\n",
    "            for idx in df[(df.년==year)&(df.월==month)&(df.일==day)].index:\n",
    "                data_dict = {\n",
    "                    'gid': idx,\n",
    "                    'gu': df.iloc[idx,3],\n",
    "                    'dong': df.iloc[idx,4],\n",
    "                    'addr': df.iloc[idx,5],\n",
    "                    'lat': df.iloc[idx,6],\n",
    "                    'lon': df.iloc[idx,7]\n",
    "                }\n",
    "                data_list.append(data_dict)\n",
    "            month_dict[str(day)] = data_list\n",
    "        year_dict[str(month)] = month_dict\n",
    "    data[str(year)] = year_dict\n",
    "\n",
    "with open('./jsons/년월일_정렬/폭행.json', 'w') as f:\n",
    "    json.dump(data, f)"
   ]
  },
  {
   "cell_type": "code",
   "execution_count": null,
   "metadata": {},
   "outputs": [],
   "source": [
    "# 년월구동 정렬\n",
    "df=pd.read_csv('./폭행/폭행_사건별_리스트(주소추가).csv',index_col=0)\n",
    "df.sort_values(by=['년','월','자치구','동','일'],inplace=True)\n",
    "df.reset_index(inplace=True,drop=True)\n",
    "data = {}\n",
    "for year in tqdm(df.년.unique()):\n",
    "    year_dict = {}\n",
    "    for month in df[df.년==year].월.unique():\n",
    "        month_dict = {}\n",
    "        for gu in df[(df.년==year)&(df.월==month)].자치구.unique():\n",
    "            gu_dict = {}\n",
    "            for dong in df[(df.년==year)&(df.월==month)&(df.자치구==gu)].동.unique():\n",
    "                data_list = []\n",
    "                for idx in df[(df.년==year)&(df.월==month)&(df.자치구==gu)&(df.동==dong)].index:\n",
    "                    data_dict = {\n",
    "                        'gid':idx,\n",
    "                        'day':int(df.iloc[idx,2]),\n",
    "                        'addr':df.iloc[idx,5],\n",
    "                        'lat':df.iloc[idx,6],\n",
    "                        'lon':df.iloc[idx,7]\n",
    "                    }\n",
    "                    data_list.append(data_dict)\n",
    "                gu_dict[str(dong)] = data_list\n",
    "            month_dict[str(gu)] = gu_dict\n",
    "        year_dict[str(month)] = month_dict\n",
    "    data[str(year)] = year_dict\n",
    "\n",
    "with open('./jsons/년월구동일_정렬/폭행.json', 'w') as f:\n",
    "    json.dump(data, f)"
   ]
  },
  {
   "cell_type": "code",
   "execution_count": null,
   "metadata": {},
   "outputs": [],
   "source": [
    "data = {}\n",
    "for year in tqdm(df.년.unique()):\n",
    "    year_dict = {}\n",
    "    for month in df[df.년==year].월.unique():\n",
    "        month_dict = {}\n",
    "        for gu in df[(df.년==year)&(df.월==month)].자치구.unique():\n",
    "            gu_dict = {}\n",
    "            for dong in df[(df.년==year)&(df.월==month)&(df.자치구==gu)].동.unique():\n",
    "                data_list = []\n",
    "                for idx in df[(df.년==year)&(df.월==month)&(df.자치구==gu)&(df.동==dong)].index:\n",
    "                    data_dict = {\n",
    "                        'gid':idx,\n",
    "                        'day':int(df.iloc[idx,2]),\n",
    "                        'addr':df.iloc[idx,5],\n",
    "                        'lat':df.iloc[idx,6],\n",
    "                        'lon':df.iloc[idx,7]\n",
    "                    }\n",
    "                    data_list.append(data_dict)\n",
    "                gu_dict[str(dong)] = data_list\n",
    "            month_dict[str(gu)] = gu_dict\n",
    "        year_dict[str(month)] = month_dict\n",
    "    data[str(year)] = year_dict\n",
    "\n",
    "with open('./jsons/년월구동일_정렬/폭행.json', 'w') as f:\n",
    "    json.dump(data, f)"
   ]
  },
  {
   "cell_type": "code",
   "execution_count": null,
   "metadata": {},
   "outputs": [],
   "source": [
    "a_json = open('./jsons/자치구별_월별_건수/폭행_자치구별_월별_건수.json')\n",
    "a_dict = json.load(a_json)\n",
    "for i in a_dict.keys():\n",
    "    a_dict[i].append({'gid':a_dict[i][95]['gid']+1,'date':'predict','count':int(df.loc[i,'attack'])})\n",
    "with open('./jsons/자치구별_월별_건수/폭행_자치구별_월별_건수.json', 'w') as f:\n",
    "    json.dump(a_dict, f)"
   ]
  },
  {
   "cell_type": "code",
   "execution_count": null,
   "metadata": {},
   "outputs": [],
   "source": [
    "df2=pd.read_csv('./성폭력/성폭력_월별_동별.csv',index_col=0)\n",
    "df3=pd.read_csv('./동별_가중치.csv')\n",
    "dongsu=df3.groupby(by='구').count().iloc[:,0].tolist()\n",
    "ls=[]\n",
    "for i in range(25):\n",
    "    for _ in range(dongsu[i]):\n",
    "        ls.append(df3.구.unique()[i])\n",
    "df2=df2.T\n",
    "df2.columns=ls"
   ]
  },
  {
   "cell_type": "code",
   "execution_count": null,
   "metadata": {},
   "outputs": [],
   "source": [
    "# 동 max 값\n",
    "crime=['강도','살인','성폭력','절도','폭행']\n",
    "for k in crime:\n",
    "    df2=pd.read_csv(f'./{k}/{k}_월별_동별.csv',index_col=0)\n",
    "    df3=pd.read_csv('./동별_가중치.csv')\n",
    "    dongsu=df3.groupby(by='구').count().iloc[:,0].tolist()\n",
    "    ls=[]\n",
    "    for i in range(25):\n",
    "        for _ in range(dongsu[i]):\n",
    "            ls.append(df3.구.unique()[i])\n",
    "    df2=df2.T\n",
    "    df2.columns=ls\n",
    "    a_json = open(f'./jsons/사건_년월구동_정렬/{k}.json')\n",
    "    a_dict = json.load(a_json)\n",
    "    for i in a_dict.keys():\n",
    "        for j in a_dict[i].keys():\n",
    "            for l in a_dict[i][j].keys():\n",
    "                a_dict[i][j][l]['max']=int(df2.loc[i+'.'+j,l].max())\n",
    "    with open(f'./jsons/사건_년월구동_정렬/{k}2.json', 'w') as f:\n",
    "        json.dump(a_dict, f)"
   ]
  },
  {
   "cell_type": "code",
   "execution_count": null,
   "metadata": {},
   "outputs": [],
   "source": [
    "# 구 max 값\n",
    "crime=['강도','살인','성폭력','절도','폭행']\n",
    "for k in crime:\n",
    "    df=pd.read_csv(f'./{k}/{k}_월별_자치구별.csv')\n",
    "    a_json = open(f'./jsons/사건_년월구동_정렬/{k}2.json')\n",
    "    a_dict = json.load(a_json)\n",
    "    for i in a_dict.keys():\n",
    "        for j in a_dict[i].keys():\n",
    "            a_dict[i][j]['max']=int(df[i+'.'+j].max())\n",
    "    with open(f'./jsons/사건_년월구동_정렬/{k}3.json', 'w') as f:\n",
    "        json.dump(a_dict, f)"
   ]
  },
  {
   "cell_type": "code",
   "execution_count": null,
   "metadata": {},
   "outputs": [],
   "source": [
    "df=pd.read_csv('./범죄발생시간.csv',index_col=0)\n",
    "for k in range(5):\n",
    "    globals()[f'df{k}']=df[df.columns[8*k:8*k+8]]\n",
    "    globals()[f'df{k}'].columns.astype('object')\n",
    "    globals()[f'df{k}'].columns=globals()[f'df{k}'].iloc[0,:]\n",
    "    globals()[f'df{k}'].drop(index=globals()[f'df{k}'].index[0],inplace=True)\n",
    "    globals()[f'df{k}'].columns=['2014', '2015', '2016', '2017', '2018', '2019', '2020', '2021']\n",
    "\n",
    "    for j in range(8):\n",
    "        probabilities=globals()[f'df{k}'][globals()[f'df{k}'].columns[j]].tolist()[1:-1]\n",
    "        for i in range(len(probabilities)):\n",
    "            probabilities[i]=probabilities[i]/sum(globals()[f'df{k}'][globals()[f'df{k}'].columns[j]].tolist()[1:-1])\n",
    "        counts = {incident: 0 for incident in range(1, 9)}\n",
    "        for i in range(globals()[f'df{k}'][globals()[f'df{k}'].columns[j]].tolist()[-1]):\n",
    "            incident = random.choices(range(1, 9), probabilities)[0]\n",
    "            counts[incident] += 1\n",
    "        for i in range(1,9):\n",
    "            globals()[f'df{k}'].iloc[i,j]=globals()[f'df{k}'].iloc[i,j] + counts[i]\n",
    "    \n",
    "    globals()[f'df{k}'].drop(globals()[f'df{k}'].index[-1],inplace=True)\n",
    "\n",
    "    for j in range(globals()[f'df{k}'].shape[1]):\n",
    "        for i in range(globals()[f'df{k}'].shape[0]-1):\n",
    "            globals()[f'df{k}'].iloc[i+1,j]=globals()[f'df{k}'].iloc[i+1,j]/globals()[f'df{k}'].iloc[0,j]\n",
    "    globals()[f'df{k}']=globals()[f'df{k}'].drop(globals()[f'df{k}'].index[0])"
   ]
  },
  {
   "cell_type": "code",
   "execution_count": null,
   "metadata": {},
   "outputs": [],
   "source": [
    "crime=['절도','살인','강도','성폭력','폭행']\n",
    "df=pd.read_csv('./절도/절도_사건별_리스트(주소추가).csv',index_col=0)\n",
    "df['시간']=None\n",
    "df=df[['년', '월', '일', '시간', '자치구', '동', '주소', '위도', '경도']]\n",
    "df.sort_values(by=['년'],inplace=True)\n",
    "for i in tqdm(range(df.shape[0])):\n",
    "    p=df0[f'{df.iloc[i,0]}'].tolist()\n",
    "    df.iloc[i,3]=f'{random.choices(range(0, 8), p)[0]*3+random.choice(range(0,3))}시{\" 30분경\" if random.choice(range(2))*30==30 else \"경\"}'\n",
    "df.to_csv('./절도/절도_사건별_리스트(시간추가).csv')"
   ]
  },
  {
   "cell_type": "code",
   "execution_count": null,
   "metadata": {},
   "outputs": [],
   "source": [
    "crime=['절도','살인','강도','성폭력','폭행']\n",
    "for crm in crime:\n",
    "    a_json = open(f'./jsons/사건_년월구동_정렬/{crm}.json')\n",
    "    a_dict = json.load(a_json)\n",
    "    for a in tqdm(a_dict.keys()):\n",
    "        p=globals()[f'df{crime.index(crm)}'][a].tolist()\n",
    "        for b in a_dict[a].keys():\n",
    "            for c in list(a_dict[a][b].keys())[:-1]:\n",
    "                for d in list(a_dict[a][b][c].keys())[:-1]:\n",
    "                    for e in range(len(a_dict[a][b][c][d])):\n",
    "                        a_dict[a][b][c][d][e]['time']=f'{random.choices(range(0, 8), p)[0]*3+random.choice(range(0,3))}시{\" 30분경\" if random.choice(range(2))*30==30 else \"경\"}'\n",
    "    with open(f'./jsons/사건_년월구동_정렬/{crm}2.json', 'w') as f:\n",
    "        json.dump(a_dict, f)"
   ]
  },
  {
   "cell_type": "code",
   "execution_count": null,
   "metadata": {},
   "outputs": [],
   "source": [
    "crime=['attack','murder','robber','sexual','theft']\n",
    "dongwgt=pd.read_csv('./동별_가중치.csv')\n",
    "dongwgt.dropna(axis=0,inplace=True)\n",
    "for crm in crime:\n",
    "    globals()[crm]=pd.DataFrame(index=dongwgt[['구','동']],columns=[f'2022.{i}' for i in range(1,13)])\n",
    "dongwgt.set_index(['구'],inplace=True)\n",
    "dongwgt=dongwgt.T\n",
    "for crm in tqdm(crime):\n",
    "    df=pd.read_csv(f'./예측/pred_{crm}.csv',index_col=1)\n",
    "    df.drop(columns=df.columns[0],inplace=True)\n",
    "    df=df.astype('int')\n",
    "    df.columns=[f'2022.{i}' for i in range(1,13)]\n",
    "    for i in dongwgt.columns.unique():\n",
    "        p=dongwgt.loc['가중치',i].tolist()\n",
    "        for j in range(1,13):\n",
    "            counts = {dong: 0 for dong in dongwgt.loc['동',i].tolist()}\n",
    "            for _ in range(df.loc[i,f'2022.{j}']):\n",
    "                dong = random.choices(dongwgt.loc['동',i].tolist(), p)[0]\n",
    "                counts[dong] += 1\n",
    "            for dong in dongwgt.loc['동',i].tolist():\n",
    "                globals()[crm].loc[[(i,dong)],[f'2022.{j}']]=counts[dong]"
   ]
  },
  {
   "cell_type": "code",
   "execution_count": null,
   "metadata": {},
   "outputs": [],
   "source": [
    "crime=['attack','murder','robber','sexual','theft']\n",
    "for crm in crime:\n",
    "    globals()[f'cases_{crm}']=pd.DataFrame(index=range(globals()[crm].sum().sum()),columns=range(3))\n",
    "    globals()[f'cases_{crm}'].columns=['월','구','동']\n",
    "    n=0\n",
    "    for i in range(globals()[crm].shape[0]):\n",
    "        for j in range(globals()[crm].shape[1]):\n",
    "            for _ in range(globals()[crm].iloc[i,j]):\n",
    "                globals()[f'cases_{crm}'].iloc[n,0]=globals()[crm].columns[j].split('.')[1]\n",
    "                globals()[f'cases_{crm}'].iloc[n,1]=globals()[crm].index[i][0]\n",
    "                globals()[f'cases_{crm}'].iloc[n,2]=globals()[crm].index[i][1]\n",
    "                n+=1"
   ]
  },
  {
   "cell_type": "code",
   "execution_count": null,
   "metadata": {},
   "outputs": [],
   "source": [
    "a_json = open(f'./jsons/사건_년월구동_정렬/절도.json')\n",
    "a_dict = json.load(a_json)\n",
    "i=a_dict['2021']['12'][list(a_dict['2021']['12'].keys())[-2]][list(a_dict['2021']['12'][list(a_dict['2021']['12'].keys())[-2]].keys())[-2]][-1]['gid']\n",
    "cases_theft['월']=cases_theft['월'].astype('int32')\n",
    "cases_theft.sort_values(by=['월','구','동'],inplace=True)\n",
    "cases_theft.index=range(i+1,i+1+cases_theft.shape[0])\n",
    "cases_theft['월']=cases_theft['월'].astype('object')\n",
    "data={}\n",
    "for month in cases_theft.월.unique():\n",
    "    month_dict={}\n",
    "    for gu in cases_theft[cases_theft.월==month].구.unique():\n",
    "        gu_dict={}\n",
    "        for dong in cases_theft[(cases_theft.월==month)&(cases_theft.구==gu)].동.unique():\n",
    "            data_list=[]\n",
    "            for idx in cases_theft[(cases_theft.월==month)&(cases_theft.구==gu)&(cases_theft.동==dong)].index:\n",
    "                data_dict={'gid':idx}\n",
    "                data_list.append(data_dict)\n",
    "            gu_dict[str(dong)]=data_list\n",
    "        gu_dict['max']=int(cases_theft[(cases_theft.월==month)&(cases_theft.구==gu)].groupby(by='동').count().max()[0])\n",
    "        month_dict[str(gu)]=gu_dict\n",
    "    month_dict['max']=int(cases_theft[cases_theft.월==month].groupby(by='구').count().max()[0])\n",
    "    data[str(month)]=month_dict\n",
    "a_dict['2022']=data\n",
    "with open(f'./jsons/사건_년월구동_정렬/절도2.json', 'w') as f:\n",
    "    json.dump(a_dict, f)"
   ]
  },
  {
   "cell_type": "code",
   "execution_count": null,
   "metadata": {},
   "outputs": [],
   "source": [
    "# 서울시_월별_건수\n",
    "a_json = open(f'./jsons/서울시_월별_건수/폭행_서울시_월별_건수.json')\n",
    "a_dict = json.load(a_json)\n",
    "idx=a_dict[-1]['gid']+1\n",
    "for i in range(attack.shape[1]):\n",
    "    a_dict.append({'gid':int(idx+i),'date':attack.columns[i],'count':attack[attack.columns[i]].sum()})\n",
    "with open(f'./jsons/서울시_월별_건수/폭행_서울시_월별_건수.json', 'w') as f:\n",
    "    json.dump(a_dict, f)"
   ]
  },
  {
   "cell_type": "code",
   "execution_count": null,
   "metadata": {},
   "outputs": [],
   "source": [
    "a_json = open(f'./jsons/동별_월별_건수/절도_동별_월별_건수.json')\n",
    "a_dict = json.load(a_json)\n",
    "for dong in a_dict.keys():\n",
    "    for i in range(theft.shape[1]):\n",
    "        a_dict[dong].append({'gid':int(96+i),'date':theft.columns[i],'count':int(theft.loc[[(dong.replace(\"'\",'').split())],theft.columns[i]])})\n",
    "i=0\n",
    "for dong in a_dict.keys():\n",
    "    for j in range(a_dict[dong].__len__()):\n",
    "        a_dict[dong][j]['gid']=i\n",
    "        i+=1\n",
    "with open(f'./jsons/동별_월별_건수/절도_동별_월별_건수.json', 'w') as f:\n",
    "    json.dump(a_dict, f)"
   ]
  },
  {
   "cell_type": "code",
   "execution_count": null,
   "metadata": {},
   "outputs": [],
   "source": [
    "attack['구']=[index[0] for index in attack.index]\n",
    "attack2=attack.groupby(by='구').sum()\n",
    "a_json = open(f'./jsons/자치구별_월별_건수/폭행_자치구별_월별_건수.json')\n",
    "a_dict = json.load(a_json)\n",
    "for gu in a_dict.keys():\n",
    "    for i in range(attack2.shape[1]):\n",
    "        a_dict[gu].append({'gid':0,'date':attack2.columns[i],'count':int(attack2.loc[gu,attack2.columns[i]])})\n",
    "i=0\n",
    "for gu in a_dict.keys():\n",
    "    for j in range(a_dict[gu].__len__()):\n",
    "        a_dict[gu][j]['gid']=i\n",
    "        i+=1\n",
    "with open(f'./jsons/자치구별_월별_건수/폭행_자치구별_월별_건수.json', 'w') as f:\n",
    "    json.dump(a_dict, f)"
   ]
  }
 ],
 "metadata": {
  "kernelspec": {
   "display_name": "Python 3",
   "language": "python",
   "name": "python3"
  },
  "language_info": {
   "name": "python",
   "version": "3.11.0 (main, Oct 24 2022, 18:26:48) [MSC v.1933 64 bit (AMD64)]"
  },
  "orig_nbformat": 4,
  "vscode": {
   "interpreter": {
    "hash": "5238573367df39f7286bb46f9ff5f08f63a01a80960060ce41e3c79b190280fa"
   }
  }
 },
 "nbformat": 4,
 "nbformat_minor": 2
}
